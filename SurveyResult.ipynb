{
 "cells": [
  {
   "cell_type": "code",
   "execution_count": 243,
   "metadata": {},
   "outputs": [],
   "source": [
    "# Import Relevant Libraries\n",
    "import pandas as pd\n",
    "import numpy as np\n",
    "import matplotlib.pyplot as plt\n",
    "%matplotlib inline"
   ]
  },
  {
   "cell_type": "code",
   "execution_count": 244,
   "metadata": {},
   "outputs": [],
   "source": [
    "# Import data files\n",
    "df_survey = pd.read_csv(\"survey_results_public.csv\")\n",
    "df_scheme = pd.read_csv(\"survey_results_schema.csv\")\n",
    "df_africancountries = pd.read_csv(\"african_countries.csv\")\n",
    "df_africancountries_english = pd.read_csv(\"anglophone_african_countries.csv\")"
   ]
  },
  {
   "cell_type": "code",
   "execution_count": 245,
   "metadata": {},
   "outputs": [],
   "source": [
    "# African Countries\n",
    "africancountries = df_africancountries['Country'].values.tolist()"
   ]
  },
  {
   "cell_type": "code",
   "execution_count": 246,
   "metadata": {},
   "outputs": [],
   "source": [
    "#Introduce column to identify African and Non African records\n",
    "df_survey['Continent'] = df_survey['Country'].apply(lambda x: \"Africa\" if x in africancountries else \"Outside Africa\")"
   ]
  },
  {
   "cell_type": "code",
   "execution_count": 247,
   "metadata": {},
   "outputs": [
    {
     "data": {
      "text/plain": [
       "<AxesSubplot:xlabel='Continent'>"
      ]
     },
     "execution_count": 247,
     "metadata": {},
     "output_type": "execute_result"
    },
    {
     "data": {
      "image/png": "[encoded data removed]",
      "text/plain": [
       "<Figure size 432x288 with 1 Axes>"
      ]
     },
     "metadata": {
      "needs_background": "light"
     },
     "output_type": "display_data"
    }
   ],
   "source": [
    "# number of respondents in the survey\n",
    "\n",
    "total_respondents = df_survey['Respondent'].count()\n",
    "\n",
    "df_survey_group = df_survey.groupby(['Continent'])['Respondent'].count().reset_index()\n",
    "\n",
    "df_survey_group['Percentage_Contribution'] = 100 * (df_survey_group['Respondent']/total_respondents)\n",
    "\n",
    "df_survey_group.plot.bar(x='Continent',y='Percentage_Contribution')"
   ]
  },
  {
   "cell_type": "code",
   "execution_count": 258,
   "metadata": {},
   "outputs": [
    {
     "data": {
      "text/html": [
       "<div>\n",
       "<style scoped>\n",
       "    .dataframe tbody tr th:only-of-type {\n",
       "        vertical-align: middle;\n",
       "    }\n",
       "\n",
       "    .dataframe tbody tr th {\n",
       "        vertical-align: top;\n",
       "    }\n",
       "\n",
       "    .dataframe thead th {\n",
       "        text-align: right;\n",
       "    }\n",
       "</style>\n",
       "<table border=\"1\" class=\"dataframe\">\n",
       "  <thead>\n",
       "    <tr style=\"text-align: right;\">\n",
       "      <th></th>\n",
       "      <th>Continent</th>\n",
       "      <th>Respondent</th>\n",
       "      <th>Percentage_Contribution</th>\n",
       "    </tr>\n",
       "  </thead>\n",
       "  <tbody>\n",
       "    <tr>\n",
       "      <th>0</th>\n",
       "      <td>Africa</td>\n",
       "      <td>1221</td>\n",
       "      <td>2.375856</td>\n",
       "    </tr>\n",
       "    <tr>\n",
       "      <th>1</th>\n",
       "      <td>Outside Africa</td>\n",
       "      <td>50171</td>\n",
       "      <td>97.624144</td>\n",
       "    </tr>\n",
       "  </tbody>\n",
       "</table>\n",
       "</div>"
      ],
      "text/plain": [
       "        Continent  Respondent  Percentage_Contribution\n",
       "0          Africa        1221                 2.375856\n",
       "1  Outside Africa       50171                97.624144"
      ]
     },
     "execution_count": 258,
     "metadata": {},
     "output_type": "execute_result"
    }
   ],
   "source": [
    "df_survey_group"
   ]
  },
  {
   "cell_type": "code",
   "execution_count": 248,
   "metadata": {},
   "outputs": [
    {
     "name": "stdout",
     "output_type": "stream",
     "text": [
      "Answer 01. Percentage of respondents who listed an African country is 2.4% of total survey respondents\n"
     ]
    }
   ],
   "source": [
    "respondents_ratio = df_survey_group.loc[0,\"Respondent\"]/df_survey_group[\"Respondent\"].sum()\n",
    "\n",
    "#Question 1: % of total respondents who reported a country within Africa\n",
    "\n",
    "print(\"Answer 01. Percentage of respondents who listed an African country is {:.1%} of total survey respondents\".format(respondents_ratio) )"
   ]
  },
  {
   "cell_type": "code",
   "execution_count": 249,
   "metadata": {},
   "outputs": [],
   "source": [
    "# Anglophone African Countries\n",
    "africancountries_english = df_africancountries_english['Country'].values.tolist() "
   ]
  },
  {
   "cell_type": "code",
   "execution_count": 250,
   "metadata": {},
   "outputs": [],
   "source": [
    "#Extract records from survey dataset with country in Africa\n",
    "df_survey_africa = df_survey[df_survey[\"Continent\"] ==\"Africa\"].reset_index(drop=True)\n",
    "\n",
    "#Introduce a column to show official language - English or Non English\n",
    "df_survey_africa['Language'] = df_survey_africa['Country'].apply(lambda x: \"English\" if x in africancountries_english else \"Non English\")"
   ]
  },
  {
   "cell_type": "code",
   "execution_count": 251,
   "metadata": {},
   "outputs": [
    {
     "data": {
      "text/html": [
       "<div>\n",
       "<style scoped>\n",
       "    .dataframe tbody tr th:only-of-type {\n",
       "        vertical-align: middle;\n",
       "    }\n",
       "\n",
       "    .dataframe tbody tr th {\n",
       "        vertical-align: top;\n",
       "    }\n",
       "\n",
       "    .dataframe thead th {\n",
       "        text-align: right;\n",
       "    }\n",
       "</style>\n",
       "<table border=\"1\" class=\"dataframe\">\n",
       "  <thead>\n",
       "    <tr style=\"text-align: right;\">\n",
       "      <th></th>\n",
       "      <th>Respondent</th>\n",
       "      <th>CareerSatisfaction</th>\n",
       "      <th>JobSatisfaction</th>\n",
       "      <th>HoursPerWeek</th>\n",
       "      <th>StackOverflowSatisfaction</th>\n",
       "      <th>Salary</th>\n",
       "      <th>ExpectedSalary</th>\n",
       "    </tr>\n",
       "  </thead>\n",
       "  <tbody>\n",
       "    <tr>\n",
       "      <th>count</th>\n",
       "      <td>1221.000000</td>\n",
       "      <td>927.000000</td>\n",
       "      <td>844.000000</td>\n",
       "      <td>521.000000</td>\n",
       "      <td>766.000000</td>\n",
       "      <td>153.000000</td>\n",
       "      <td>58.000000</td>\n",
       "    </tr>\n",
       "    <tr>\n",
       "      <th>mean</th>\n",
       "      <td>27835.002457</td>\n",
       "      <td>7.055016</td>\n",
       "      <td>6.477488</td>\n",
       "      <td>6.429942</td>\n",
       "      <td>8.421671</td>\n",
       "      <td>25844.723305</td>\n",
       "      <td>18646.451097</td>\n",
       "    </tr>\n",
       "    <tr>\n",
       "      <th>std</th>\n",
       "      <td>14489.316336</td>\n",
       "      <td>2.282953</td>\n",
       "      <td>2.492830</td>\n",
       "      <td>9.585616</td>\n",
       "      <td>1.487552</td>\n",
       "      <td>23096.577940</td>\n",
       "      <td>31284.785464</td>\n",
       "    </tr>\n",
       "    <tr>\n",
       "      <th>min</th>\n",
       "      <td>237.000000</td>\n",
       "      <td>0.000000</td>\n",
       "      <td>0.000000</td>\n",
       "      <td>0.000000</td>\n",
       "      <td>0.000000</td>\n",
       "      <td>6.354249</td>\n",
       "      <td>3.177125</td>\n",
       "    </tr>\n",
       "    <tr>\n",
       "      <th>25%</th>\n",
       "      <td>16043.000000</td>\n",
       "      <td>6.000000</td>\n",
       "      <td>5.000000</td>\n",
       "      <td>1.000000</td>\n",
       "      <td>8.000000</td>\n",
       "      <td>3779.000000</td>\n",
       "      <td>1113.585746</td>\n",
       "    </tr>\n",
       "    <tr>\n",
       "      <th>50%</th>\n",
       "      <td>28179.000000</td>\n",
       "      <td>7.000000</td>\n",
       "      <td>7.000000</td>\n",
       "      <td>3.000000</td>\n",
       "      <td>9.000000</td>\n",
       "      <td>24498.886414</td>\n",
       "      <td>3884.780995</td>\n",
       "    </tr>\n",
       "    <tr>\n",
       "      <th>75%</th>\n",
       "      <td>40058.000000</td>\n",
       "      <td>9.000000</td>\n",
       "      <td>8.000000</td>\n",
       "      <td>6.000000</td>\n",
       "      <td>10.000000</td>\n",
       "      <td>39396.346307</td>\n",
       "      <td>20000.000000</td>\n",
       "    </tr>\n",
       "    <tr>\n",
       "      <th>max</th>\n",
       "      <td>51281.000000</td>\n",
       "      <td>10.000000</td>\n",
       "      <td>10.000000</td>\n",
       "      <td>40.000000</td>\n",
       "      <td>10.000000</td>\n",
       "      <td>120000.000000</td>\n",
       "      <td>150000.000000</td>\n",
       "    </tr>\n",
       "  </tbody>\n",
       "</table>\n",
       "</div>"
      ],
      "text/plain": [
       "         Respondent  CareerSatisfaction  JobSatisfaction  HoursPerWeek  \\\n",
       "count   1221.000000          927.000000       844.000000    521.000000   \n",
       "mean   27835.002457            7.055016         6.477488      6.429942   \n",
       "std    14489.316336            2.282953         2.492830      9.585616   \n",
       "min      237.000000            0.000000         0.000000      0.000000   \n",
       "25%    16043.000000            6.000000         5.000000      1.000000   \n",
       "50%    28179.000000            7.000000         7.000000      3.000000   \n",
       "75%    40058.000000            9.000000         8.000000      6.000000   \n",
       "max    51281.000000           10.000000        10.000000     40.000000   \n",
       "\n",
       "       StackOverflowSatisfaction         Salary  ExpectedSalary  \n",
       "count                 766.000000     153.000000       58.000000  \n",
       "mean                    8.421671   25844.723305    18646.451097  \n",
       "std                     1.487552   23096.577940    31284.785464  \n",
       "min                     0.000000       6.354249        3.177125  \n",
       "25%                     8.000000    3779.000000     1113.585746  \n",
       "50%                     9.000000   24498.886414     3884.780995  \n",
       "75%                    10.000000   39396.346307    20000.000000  \n",
       "max                    10.000000  120000.000000   150000.000000  "
      ]
     },
     "execution_count": 251,
     "metadata": {},
     "output_type": "execute_result"
    }
   ],
   "source": [
    "#Stats of respondents with country within Africa\n",
    "df_survey_africa.describe()"
   ]
  },
  {
   "cell_type": "code",
   "execution_count": 252,
   "metadata": {},
   "outputs": [
    {
     "data": {
      "text/plain": [
       "<AxesSubplot:xlabel='Country'>"
      ]
     },
     "execution_count": 252,
     "metadata": {},
     "output_type": "execute_result"
    },
    {
     "data": {
      "image/png": "[encoded data removed]",
      "text/plain": [
       "<Figure size 432x288 with 1 Axes>"
      ]
     },
     "metadata": {
      "needs_background": "light"
     },
     "output_type": "display_data"
    }
   ],
   "source": [
    "#Question 2: Distribution of African respondents - Respondents per African Country\n",
    "\n",
    "df_survey_africa_country = df_survey_africa.groupby(['Country'])['Respondent'].count().reset_index()\n",
    "\n",
    "df_survey_africa_country['Percentage_Contribution'] = (df_survey_africa_country['Respondent']/total_respondents_africa)\n",
    "\n",
    "df_survey_africa_country.plot.bar(x='Country',y='Percentage_Contribution')"
   ]
  },
  {
   "cell_type": "code",
   "execution_count": 253,
   "metadata": {},
   "outputs": [
    {
     "name": "stdout",
     "output_type": "stream",
     "text": [
      "Answer 3: Within Africa, the top 4 countries - South Africa, Nigeria, South Africa, South Africa - with over 63.9% of respondents are English speaking\n"
     ]
    }
   ],
   "source": [
    "#Question 3: Determine Characteristics of  African countries with most respondents\n",
    "\n",
    "Top4_by_contribution = df_survey_africa_country.nlargest(4, columns='Percentage_Contribution').Percentage_Contribution.sum()\n",
    "\n",
    "Top4_countrynames = df_survey_africa_country.nlargest(4, columns='Percentage_Contribution')['Country'].to_list()\n",
    "\n",
    "print(\"Answer 3: Within Africa, the top 4 countries - \" + Top4_countrynames[0] + \", \" + Top4_countrynames[1] +\", \" + Top4_countrynames[0] + \", \" + Top4_countrynames[0] + \" - with over {:.1%} of respondents are English speaking\".format(Top4_by_contribution))"
   ]
  },
  {
   "cell_type": "code",
   "execution_count": 262,
   "metadata": {},
   "outputs": [
    {
     "data": {
      "text/html": [
       "<div>\n",
       "<style scoped>\n",
       "    .dataframe tbody tr th:only-of-type {\n",
       "        vertical-align: middle;\n",
       "    }\n",
       "\n",
       "    .dataframe tbody tr th {\n",
       "        vertical-align: top;\n",
       "    }\n",
       "\n",
       "    .dataframe thead th {\n",
       "        text-align: right;\n",
       "    }\n",
       "</style>\n",
       "<table border=\"1\" class=\"dataframe\">\n",
       "  <thead>\n",
       "    <tr style=\"text-align: right;\">\n",
       "      <th></th>\n",
       "      <th>Language</th>\n",
       "      <th>CareerSatisfaction</th>\n",
       "    </tr>\n",
       "  </thead>\n",
       "  <tbody>\n",
       "    <tr>\n",
       "      <th>0</th>\n",
       "      <td>English</td>\n",
       "      <td>7.179658</td>\n",
       "    </tr>\n",
       "    <tr>\n",
       "      <th>1</th>\n",
       "      <td>Non English</td>\n",
       "      <td>6.889777</td>\n",
       "    </tr>\n",
       "  </tbody>\n",
       "</table>\n",
       "</div>"
      ],
      "text/plain": [
       "      Language  CareerSatisfaction\n",
       "0      English            7.179658\n",
       "1  Non English            6.889777"
      ]
     },
     "execution_count": 262,
     "metadata": {},
     "output_type": "execute_result"
    }
   ],
   "source": [
    "#Question 4: Given that top programming languages have English keywords/phrases, infer likely impact on respondent's career\n",
    "\n",
    "#Fill Career Statisfaction with Mean\n",
    "df_survey_africa['CareerSatisfaction'].fillna(value=df_survey_africa['CareerSatisfaction'].mean(), inplace=True)\n",
    "\n",
    "# Calculate average career statisfaction based on language of respondent\n",
    "df_survey_africa_lang = df_survey_africa.groupby(['Language'])['CareerSatisfaction'].mean().reset_index()\n",
    "df_survey_africa_lang\n"
   ]
  },
  {
   "cell_type": "code",
   "execution_count": 261,
   "metadata": {},
   "outputs": [
    {
     "data": {
      "text/plain": [
       "<AxesSubplot:xlabel='Language'>"
      ]
     },
     "execution_count": 261,
     "metadata": {},
     "output_type": "execute_result"
    },
    {
     "data": {
      "image/png": "[encoded data removed]",
      "text/plain": [
       "<Figure size 432x288 with 1 Axes>"
      ]
     },
     "metadata": {
      "needs_background": "light"
     },
     "output_type": "display_data"
    }
   ],
   "source": [
    "#df_survey_africa_lang\n",
    "df_survey_africa_lang.plot.bar(x='Language',y='CareerSatisfaction')"
   ]
  },
  {
   "cell_type": "code",
   "execution_count": 259,
   "metadata": {},
   "outputs": [
    {
     "name": "stdout",
     "output_type": "stream",
     "text": [
      "Answer 4: Career satisfaction appears higher in responents from English-speaking countries compared to those from non-English speaking countries\n"
     ]
    }
   ],
   "source": [
    "print(\"Answer 4: Career satisfaction appears higher in responents from English-speaking countries compared to those from non-English speaking countries\")"
   ]
  },
  {
   "cell_type": "code",
   "execution_count": null,
   "metadata": {},
   "outputs": [],
   "source": []
  }
 ],
 "metadata": {
  "kernelspec": {
   "display_name": "Python 3",
   "language": "python",
   "name": "python3"
  },
  "language_info": {
   "codemirror_mode": {
    "name": "ipython",
    "version": 3
   },
   "file_extension": ".py",
   "mimetype": "text/x-python",
   "name": "python",
   "nbconvert_exporter": "python",
   "pygments_lexer": "ipython3",
   "version": "3.8.5"
  }
 },
 "nbformat": 4,
 "nbformat_minor": 4
}
